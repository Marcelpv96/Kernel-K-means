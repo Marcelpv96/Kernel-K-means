{
 "cells": [
  {
   "cell_type": "code",
   "execution_count": 32,
   "metadata": {},
   "outputs": [],
   "source": [
    "from sklearn import datasets\n",
    "import pandas as pd\n",
    "\n",
    "# n_samples, noise= standard desviation, factor = lower, lower will be the circle inside\n",
    "dataset = datasets.make_circles(n_samples=700, noise=0.03, factor=0.1)\n",
    "df_dataset = pd.DataFrame(dataset[0])\n",
    "df_dataset['label'] = dataset[1]\n",
    "df_dataset.to_csv(\"ring_dataset.csv\")"
   ]
  }
 ],
 "metadata": {
  "kernelspec": {
   "display_name": "Python 3",
   "language": "python",
   "name": "python3"
  },
  "language_info": {
   "codemirror_mode": {
    "name": "ipython",
    "version": 3
   },
   "file_extension": ".py",
   "mimetype": "text/x-python",
   "name": "python",
   "nbconvert_exporter": "python",
   "pygments_lexer": "ipython3",
   "version": "3.5.2"
  }
 },
 "nbformat": 4,
 "nbformat_minor": 2
}
